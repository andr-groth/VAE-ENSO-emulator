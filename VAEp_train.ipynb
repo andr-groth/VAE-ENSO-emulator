{
 "cells": [
  {
   "cell_type": "markdown",
   "metadata": {},
   "source": [
    "# Train VAE on CMIP data"
   ]
  },
  {
   "cell_type": "markdown",
   "metadata": {},
   "source": [
    "The notebook demonstrates the process of training a Variational Autoencoder (VAE) on CMIP data. The key steps and components involved are outlined as follows:\n",
    "\n",
    "1. The VAE model consists of four components: encoder, latent sampling, decoder, and a second decoder for prediction. Separate model instances are created for each component:\n",
    "     * _Encoder_: The encoder takes a sample `x` and returns the mean `z_mean` and logarithmic variance `z_log_var` of the latent variable `z`.\n",
    "    * _Latent Sampling_: The latent sampling takes `z_mean` and `z_log_var` as inputs and generates a random latent sample `z`.\n",
    "    * _Decoder_: The decoder reconstructs the input `x` by taking the latent sample `z` and producing the decoded output `y`. The decoding is done backward in time, maintaining the input order.\n",
    "   * _Decoder for Prediction_: The second decoder also takes the latent sample `z` but generates a forward-time prediction output.\n",
    "\n",
    "2. The full model is created by combining the four components. Model weights and training metrics are saved in a log directory (`LOG_DIR`). If the initial epoch (`INITIAL_EPOCH`) is greater than zero, the training continues from the saved weights; otherwise, a new training session starts.\n",
    "\n",
    "3. The data used in training includes CMIP data from the Climate Explorer. The dataset can be optionally split into training and validation sets.\n",
    "\n",
    "4. During training, generators are prepared for training and validation on CMIP data. A beta scheduler is used to scale the KL loss during training. Callbacks are set up to save model weights and metrics.  These callbacks enable tracking the progress of the training and provide checkpoints for the model."
   ]
  },
  {
   "cell_type": "markdown",
   "metadata": {},
   "source": [
    "## Requirements"
   ]
  },
  {
   "cell_type": "markdown",
   "metadata": {},
   "source": [
    "1. The notebook requires the VAE package to be installed, which is available at:\r\n",
    "\r\n",
    "    https://github.com/andr-groth/VAE-project\r\n",
    "\r\n",
    "2. Sample data used in the notebook is included in the `data/` folder. The data was collected with the help of the Climate Explorer at:\r\n",
    "\r\n",
    "    http://climexp.knmi.nl"
   ]
  },
  {
   "cell_type": "markdown",
   "metadata": {},
   "source": [
    "## Imports"
   ]
  },
  {
   "cell_type": "code",
   "execution_count": 1,
   "metadata": {},
   "outputs": [],
   "source": [
    "import warnings\n",
    "\n",
    "warnings.filterwarnings(\"ignore\", category=UserWarning)\n",
    "warnings.filterwarnings(\"ignore\", category=DeprecationWarning)"
   ]
  },
  {
   "cell_type": "code",
   "execution_count": 2,
   "metadata": {},
   "outputs": [],
   "source": [
    "import itertools\n",
    "import os\n",
    "import random\n",
    "from datetime import datetime\n",
    "from types import SimpleNamespace\n",
    "\n",
    "import numpy as np\n",
    "import tensorflow.keras as ks\n",
    "import tensorflow.keras.backend as K\n",
    "import yaml\n",
    "from matplotlib import pyplot as plt\n",
    "from matplotlib import ticker\n",
    "from pytz import timezone\n",
    "from tqdm.keras import TqdmCallback"
   ]
  },
  {
   "cell_type": "code",
   "execution_count": 3,
   "metadata": {},
   "outputs": [],
   "source": [
    "from tensorflow import get_logger\n",
    "from tensorflow.compat.v1 import disable_eager_execution, disable_v2_behavior\n",
    "\n",
    "get_logger().setLevel('ERROR')\n",
    "disable_eager_execution()\n",
    "disable_v2_behavior()"
   ]
  },
  {
   "cell_type": "code",
   "execution_count": 4,
   "metadata": {
    "tags": []
   },
   "outputs": [],
   "source": [
    "from VAE import generators, models\n",
    "from VAE.callbacks import Evaluate, ModelCheckpoint\n",
    "from VAE.utils import beta_schedulers, collection, fileio"
   ]
  },
  {
   "cell_type": "code",
   "execution_count": 5,
   "metadata": {},
   "outputs": [],
   "source": [
    "%config InlineBackend.figure_formats = ['retina']\n",
    "%matplotlib inline\n",
    "plt.rcParams['figure.constrained_layout.use'] = True\n",
    "plt.rcParams['figure.dpi'] = 75\n",
    "np.set_printoptions(formatter={'float_kind': lambda x: f'{x: .3f}'}, linewidth=120)"
   ]
  },
  {
   "cell_type": "markdown",
   "metadata": {},
   "source": [
    "## Log directory"
   ]
  },
  {
   "cell_type": "markdown",
   "metadata": {},
   "source": [
    "In the folder `LOG_DIR`, the model weights and training metrics are saved. The metrics can be monitored with Tensorboard."
   ]
  },
  {
   "cell_type": "code",
   "execution_count": 6,
   "metadata": {},
   "outputs": [],
   "source": [
    "INITIAL_EPOCH = 0\n",
    "LOG_DIR = r'logs'"
   ]
  },
  {
   "cell_type": "markdown",
   "metadata": {},
   "source": [
    "Setting `INITIAL_EPOCH` to a value greater than zero will continue the training in `LOG_DIR`. Otherwise, a new training is started in a new subfolder created in `LOG_DIR`."
   ]
  },
  {
   "cell_type": "code",
   "execution_count": 7,
   "metadata": {},
   "outputs": [],
   "source": [
    "INITIAL_EPOCH = 15\n",
    "LOG_DIR = os.path.join(LOG_DIR, '2022-10-28T19.45')"
   ]
  },
  {
   "cell_type": "code",
   "execution_count": 8,
   "metadata": {},
   "outputs": [
    {
     "name": "stdout",
     "output_type": "stream",
     "text": [
      "Continue training in logs\\2022-10-28T19.45\n"
     ]
    }
   ],
   "source": [
    "if INITIAL_EPOCH == 0:\n",
    "    tz = timezone('Europe/Berlin')\n",
    "    log_dir = os.path.join(LOG_DIR, datetime.now(tz).strftime('%Y-%m-%dT%H.%M'))\n",
    "    os.makedirs(log_dir)\n",
    "    print('Start training in', os.path.normpath(log_dir))\n",
    "else:\n",
    "    log_dir = LOG_DIR\n",
    "    assert os.path.exists(log_dir), 'Path not found'\n",
    "    print('Continue training in', os.path.normpath(log_dir))"
   ]
  },
  {
   "cell_type": "markdown",
   "metadata": {},
   "source": [
    "## Parameters"
   ]
  },
  {
   "cell_type": "markdown",
   "metadata": {},
   "source": [
    "First we specify the parameters of the model and the training."
   ]
  },
  {
   "cell_type": "code",
   "execution_count": 9,
   "metadata": {},
   "outputs": [],
   "source": [
    "if INITIAL_EPOCH == 0:\n",
    "    input_shape = [16, 1 + 20]\n",
    "    prediction_shape = [24, 1]\n",
    "    epochs = 15\n",
    "    ensemble_size = 38\n",
    "    repeat_samples = 5\n",
    "    params = {\n",
    "        'model': {\n",
    "            'activation': 'swish',\n",
    "            'beta': 'beta',\n",
    "            'cond_size': [12, ensemble_size],\n",
    "            'cond_units': 12,\n",
    "            'cond_ens_size': 6,\n",
    "            'cond_use_scale': False,\n",
    "            'delta': 1,\n",
    "            'encoder_blocks': 3,\n",
    "            'fc_units': 48,\n",
    "            'fc_activation': 'tanh',\n",
    "            'film_temporal': True,\n",
    "            'filters': 20,\n",
    "            'gamma': 3,\n",
    "            'input_shape': input_shape,\n",
    "            'latent_dim': 14,\n",
    "            'learning_rate': 1e-3,\n",
    "            'loss_weights': {\n",
    "                'decoder': 1,\n",
    "                'prediction': 3\n",
    "            },\n",
    "            'pooling': None,\n",
    "            'prediction_shape': prediction_shape,\n",
    "            'padding_blocks': 1,\n",
    "            'repeat_samples': repeat_samples,\n",
    "            'residual_units': 1,\n",
    "            'set_size': 1,\n",
    "            '__version__': models.__version__,\n",
    "        },\n",
    "        'prediction': {\n",
    "            'filters': 8,\n",
    "        },\n",
    "        'data': {\n",
    "            'filename': [\n",
    "                'data/rcp45/nino34/*one*.txt',\n",
    "                'data/rcp45/pcs_55S60N_5dgr_1865-2005/*one*.txt',\n",
    "            ],\n",
    "            'pc_scale': 5,\n",
    "            'time_interval': ['1865-01-01', '2005-12-31'],\n",
    "        },\n",
    "        'data2': {\n",
    "            'filename': [\n",
    "                'data/obs/nino34/*ersst*.txt',\n",
    "                'data/obs/prj/rcp45_55S60N_5dgr_1865-2005/*ersst*.txt',\n",
    "            ],\n",
    "            'time_interval': ['1865-01-01', '2021-12-31'],\n",
    "        },\n",
    "        'beta_scheduler': {\n",
    "            'class_name': 'LogisticGrowth',\n",
    "            'config': {\n",
    "                'upper': 0.2,\n",
    "                'midpoint': 5,\n",
    "                'rate': 1,\n",
    "            }\n",
    "        },\n",
    "        'fit_generator': {\n",
    "            'input_length': input_shape[0],\n",
    "            'prediction_length': prediction_shape[0],\n",
    "            'batch_size': 128,\n",
    "            'ensemble_size': ensemble_size,\n",
    "            'ensemble_type': 'index',\n",
    "            'filter_length': [0, 1],\n",
    "            'prediction_channels': [0, prediction_shape[1]],\n",
    "            'repeat_samples': repeat_samples,\n",
    "            'shuffle': True,\n",
    "            'strides': 1,\n",
    "            'tp_period': 12,\n",
    "            'validation_split': 1,\n",
    "            'validation_seed': 1,\n",
    "            'dtype': 'float32',\n",
    "            '__version__': generators.__version__,\n",
    "        },\n",
    "        'fit_generator2': {\n",
    "            'batch_size': 32,\n",
    "            'ensemble_sync': True,\n",
    "            'ensemble_type': 'random',\n",
    "            'initial_epoch': epochs,\n",
    "            'validation_split': '1980-09-01',\n",
    "        },\n",
    "        'model_fit': {\n",
    "            'epochs': epochs\n",
    "        },\n",
    "    }\n",
    "\n",
    "    fn = os.path.join(log_dir, 'trainer_config.yaml')\n",
    "    with open(fn, 'w') as f:\n",
    "        yaml.dump(params, f)\n",
    "\n",
    "else:\n",
    "    fn = os.path.join(log_dir, 'trainer_config.yaml')\n",
    "    with open(fn, 'r') as f:\n",
    "        params = yaml.load(f, Loader=yaml.FullLoader)\n",
    "\n",
    "    assert params['model'].get('__version__') == models.__version__, 'Model version mismatch'\n",
    "    assert params['fit_generator'].get('__version__') == generators.__version__, 'Generator version mismatch'\n",
    "\n",
    "    params['fit_generator']['initial_epoch'] = INITIAL_EPOCH\n",
    "    params.setdefault('prediction', {})\n",
    "\n",
    "params = SimpleNamespace(**params)\n",
    "# print(yaml.dump(params.__dict__))"
   ]
  },
  {
   "cell_type": "markdown",
   "metadata": {},
   "source": [
    "## Model"
   ]
  },
  {
   "cell_type": "markdown",
   "metadata": {},
   "source": [
    "The VAE model consists of four components: encoder, latent sampling, decoder, and a second decoder for prediction. Separate model instances are created for each component."
   ]
  },
  {
   "cell_type": "markdown",
   "metadata": {},
   "source": [
    "### Encoder"
   ]
  },
  {
   "cell_type": "markdown",
   "metadata": {},
   "source": [
    "The encoder takes a sample `x` and returns `z_mean` and `z_log_var`:"
   ]
  },
  {
   "cell_type": "code",
   "execution_count": 10,
   "metadata": {},
   "outputs": [],
   "source": [
    "encoder = models.Encoder(**params.model, name='encoder')"
   ]
  },
  {
   "cell_type": "markdown",
   "metadata": {},
   "source": [
    "### Latent sampling"
   ]
  },
  {
   "cell_type": "markdown",
   "metadata": {},
   "source": [
    "The latent sampling takes the two inputs `z_mean` and `z_log_var` and returns a set of `set_size=1` random latent sample `z`:"
   ]
  },
  {
   "cell_type": "code",
   "execution_count": 11,
   "metadata": {},
   "outputs": [],
   "source": [
    "latent_sampling = models.LatentSampling(**params.model, name='latent')"
   ]
  },
  {
   "cell_type": "markdown",
   "metadata": {},
   "source": [
    "### Decoder"
   ]
  },
  {
   "cell_type": "markdown",
   "metadata": {},
   "source": [
    "The decoder, finally, takes a latent sample `z` and returns the decoded output `y` to reconstruct `x`. The decoding works backward in time and we set `output_reverse=True` so that the order of decoder output matches the input to the encoder."
   ]
  },
  {
   "cell_type": "code",
   "execution_count": 12,
   "metadata": {},
   "outputs": [],
   "source": [
    "decoder = models.Decoder(output_shape=params.model.get('input_shape'),\n",
    "                         decoder_blocks=params.model.get('encoder_blocks'),\n",
    "                         output_reverse=True,\n",
    "                         **params.model,\n",
    "                         name='decoder')"
   ]
  },
  {
   "cell_type": "markdown",
   "metadata": {},
   "source": [
    "### Decoder for prediction"
   ]
  },
  {
   "cell_type": "markdown",
   "metadata": {},
   "source": [
    "Like the decoder, the second decoder takes the same latent sample `z` and it's output will provide the prediction. In contrast to the `decoder`, we set `output_reverse=False` so that the output of `prediction` is forward in time."
   ]
  },
  {
   "cell_type": "code",
   "execution_count": 13,
   "metadata": {},
   "outputs": [],
   "source": [
    "prediction = models.Decoder(output_shape=params.model.get('prediction_shape'),\n",
    "                            decoder_blocks=params.model.get('encoder_blocks'),\n",
    "                            output_reverse=False,\n",
    "                            **{\n",
    "                                **params.model,\n",
    "                                **params.prediction\n",
    "                            },\n",
    "                            name='prediction')"
   ]
  },
  {
   "cell_type": "markdown",
   "metadata": {},
   "source": [
    "### Full model"
   ]
  },
  {
   "cell_type": "markdown",
   "metadata": {},
   "source": [
    "Now that we have the four components, we a ready to create the full model."
   ]
  },
  {
   "cell_type": "code",
   "execution_count": 14,
   "metadata": {},
   "outputs": [],
   "source": [
    "model = models.VAEp(encoder, decoder, latent_sampling, prediction, **params.model)"
   ]
  },
  {
   "cell_type": "markdown",
   "metadata": {},
   "source": [
    "Let's plot the model"
   ]
  },
  {
   "cell_type": "code",
   "execution_count": 15,
   "metadata": {},
   "outputs": [
    {
     "data": {
      "image/png": "[encoded data removed]",
      "text/plain": [
       "<IPython.core.display.Image object>"
      ]
     },
     "execution_count": 15,
     "metadata": {},
     "output_type": "execute_result"
    }
   ],
   "source": [
    "ks.utils.plot_model(model, show_shapes=True, dpi=75, rankdir='LR')"
   ]
  },
  {
   "cell_type": "markdown",
   "metadata": {},
   "source": [
    "Summary of the model"
   ]
  },
  {
   "cell_type": "code",
   "execution_count": 16,
   "metadata": {},
   "outputs": [
    {
     "name": "stdout",
     "output_type": "stream",
     "text": [
      "Model: \"mVAEp\"\n",
      "________________________________________________________________________________________________________________________\n",
      "Layer (type)                           Output Shape               Param #       Connected to                            \n",
      "========================================================================================================================\n",
      "encoder_input (InputLayer)             [(None, 1, 16, 21)]        0                                                     \n",
      "________________________________________________________________________________________________________________________\n",
      "encoder_cond (InputLayer)              [(None, 1, 50)]            0                                                     \n",
      "________________________________________________________________________________________________________________________\n",
      "encoder (Functional)                   [(None, 14), (None, 14)]   61606         encoder_input[0][0]                     \n",
      "                                                                                encoder_cond[0][0]                      \n",
      "________________________________________________________________________________________________________________________\n",
      "latent (Functional)                    (None, 1, 14)              0             encoder[0][0]                           \n",
      "                                                                                encoder[0][1]                           \n",
      "________________________________________________________________________________________________________________________\n",
      "decoder_cond (InputLayer)              [(None, 1, 50)]            0                                                     \n",
      "________________________________________________________________________________________________________________________\n",
      "prediction_cond (InputLayer)           [(None, 1, 50)]            0                                                     \n",
      "________________________________________________________________________________________________________________________\n",
      "beta (InputLayer)                      [(None, 1)]                0                                                     \n",
      "________________________________________________________________________________________________________________________\n",
      "decoder (Functional)                   (None, 1, 16, 21)          73227         latent[0][0]                            \n",
      "                                                                                decoder_cond[0][0]                      \n",
      "________________________________________________________________________________________________________________________\n",
      "prediction (Functional)                (None, 1, 24, 1)           26539         latent[0][0]                            \n",
      "                                                                                prediction_cond[0][0]                   \n",
      "========================================================================================================================\n",
      "Total params: 161,372\n",
      "Trainable params: 159,942\n",
      "Non-trainable params: 1,430\n",
      "________________________________________________________________________________________________________________________\n"
     ]
    }
   ],
   "source": [
    "model.summary(line_length=120)"
   ]
  },
  {
   "cell_type": "markdown",
   "metadata": {
    "slideshow": {
     "slide_type": "skip"
    },
    "tags": []
   },
   "source": [
    "### Load model weights (optional)"
   ]
  },
  {
   "cell_type": "markdown",
   "metadata": {},
   "source": [
    "Optionally, we load model weights if `INITIAL_EPOCH > 0` to continue the training."
   ]
  },
  {
   "cell_type": "code",
   "execution_count": 17,
   "metadata": {
    "slideshow": {
     "slide_type": "skip"
    }
   },
   "outputs": [
    {
     "name": "stdout",
     "output_type": "stream",
     "text": [
      "Load model weights from: logs\\2022-10-28T19.45\\model.15.h5\n"
     ]
    }
   ],
   "source": [
    "if INITIAL_EPOCH > 0:\n",
    "    epoch = min(INITIAL_EPOCH, params.model_fit['epochs'])\n",
    "    model_file = os.path.join(log_dir, 'model.{epoch:02d}.h5'.format(epoch=epoch))\n",
    "    model.load_weights(model_file, by_name=True)\n",
    "    print('Load model weights from:', os.path.normpath(model_file))"
   ]
  },
  {
   "attachments": {},
   "cell_type": "markdown",
   "metadata": {},
   "source": [
    "## Data"
   ]
  },
  {
   "attachments": {},
   "cell_type": "markdown",
   "metadata": {},
   "source": [
    "In the following, we load the data."
   ]
  },
  {
   "attachments": {},
   "cell_type": "markdown",
   "metadata": {},
   "source": [
    "### CMIP data"
   ]
  },
  {
   "cell_type": "code",
   "execution_count": 18,
   "metadata": {},
   "outputs": [],
   "source": [
    "pc_scale = params.data.pop('pc_scale', 1)\n",
    "dataframe, metadata = fileio.read_climexp_raw_data_multi(**params.data, join='inner', dtype='float32')\n",
    "time = dataframe.index.to_numpy()\n",
    "titles = [metadata[key].get('description') for key in dataframe.columns.levels[0]]"
   ]
  },
  {
   "cell_type": "markdown",
   "metadata": {},
   "source": [
    "We stack the data of the different files along the last axis, the channels. We restrict the number of data channels to the number of input channels of the model."
   ]
  },
  {
   "cell_type": "code",
   "execution_count": 19,
   "metadata": {},
   "outputs": [
    {
     "name": "stdout",
     "output_type": "stream",
     "text": [
      "data shape (runs, time, channels) : (38, 1692, 21)\n"
     ]
    }
   ],
   "source": [
    "data = np.stack([dataframe[name].T for name in dataframe.columns.levels[0]], axis=-1)\n",
    "data = data[..., :params.model['input_shape'][-1]]\n",
    "print('data shape (runs, time, channels) :', data.shape)"
   ]
  },
  {
   "cell_type": "markdown",
   "metadata": {},
   "source": [
    "We normalize the PCs so that their total variance matches that of the ENSO index (assumed to be the leading channel)."
   ]
  },
  {
   "cell_type": "code",
   "execution_count": 20,
   "metadata": {},
   "outputs": [
    {
     "name": "stdout",
     "output_type": "stream",
     "text": [
      "data is PC:  [False  True  True  True  True  True  True  True  True  True  True  True  True  True  True  True  True  True  True\n",
      "  True  True]\n"
     ]
    }
   ],
   "source": [
    "pc_idx = [title.startswith('PC') for title in titles]\n",
    "pc_idx = np.array(pc_idx)[:params.model['input_shape'][-1]]\n",
    "print('data is PC: ', pc_idx)"
   ]
  },
  {
   "cell_type": "code",
   "execution_count": 21,
   "metadata": {},
   "outputs": [
    {
     "name": "stdout",
     "output_type": "stream",
     "text": [
      "PC scale: [ 5.659  9.483  19.491  23.611  18.818  29.054  31.534  24.295  45.947  24.783  17.199  29.809  44.323  54.509  33.797\n",
      "  42.890  34.887  39.952  40.214  45.211]\n"
     ]
    }
   ],
   "source": [
    "if np.any(pc_idx):\n",
    "    data_var = np.var(data, axis=(0, 1))\n",
    "    pc_scales = (data_var[0] / data_var[pc_idx] / sum(pc_idx))**0.5\n",
    "    pc_scales *= pc_scale**0.5\n",
    "\n",
    "    data[..., pc_idx] *= pc_scales\n",
    "    print(f'PC scale: {pc_scales}')"
   ]
  },
  {
   "cell_type": "markdown",
   "metadata": {},
   "source": [
    "Mean and variance of the CMIP data."
   ]
  },
  {
   "cell_type": "code",
   "execution_count": 22,
   "metadata": {},
   "outputs": [
    {
     "name": "stdout",
     "output_type": "stream",
     "text": [
      "Mean     : [ 0.000  0.000 -0.000 -0.000 -0.000  0.000  0.000 -0.000 -0.000 -0.000  0.000 -0.000 -0.000  0.000  0.000  0.000 -0.000\n",
      " -0.000 -0.000 -0.000 -0.000] = 0.000\n",
      "Variance : [ 0.752  0.188  0.188  0.188  0.188  0.188  0.188  0.188  0.188  0.188  0.188  0.188  0.188  0.188  0.188  0.188  0.188\n",
      "  0.188  0.188  0.188  0.188] = 0.215\n"
     ]
    }
   ],
   "source": [
    "axis = (0, 1)\n",
    "print(f'Mean     : {np.mean(data, axis=axis)} ={np.mean(data): .3f}')\n",
    "print(f'Variance : {np.var(data, axis=axis)} ={np.var(data): .3f}')"
   ]
  },
  {
   "cell_type": "markdown",
   "metadata": {},
   "source": [
    "We split the CMIP5 ensemble runs into separate datasets and shuffle the different runs."
   ]
  },
  {
   "cell_type": "code",
   "execution_count": 23,
   "metadata": {},
   "outputs": [
    {
     "name": "stdout",
     "output_type": "stream",
     "text": [
      "Shape of datasets  : (1, 1692, 21)\n",
      "Number of datasets : 38\n"
     ]
    }
   ],
   "source": [
    "dataset = np.split(data, len(data), axis=0)\n",
    "random.seed(params.fit_generator.get('validation_seed', None))\n",
    "random.shuffle(dataset)\n",
    "\n",
    "print('Shape of datasets  :', dataset[0].shape)\n",
    "print('Number of datasets :', len(dataset))"
   ]
  },
  {
   "cell_type": "markdown",
   "metadata": {},
   "source": [
    "We split the datasets into a set for training and a set for validation."
   ]
  },
  {
   "cell_type": "code",
   "execution_count": 24,
   "metadata": {},
   "outputs": [
    {
     "name": "stdout",
     "output_type": "stream",
     "text": [
      "Number of training datasets   : 38\n",
      "Number of validation datasets : 0\n"
     ]
    }
   ],
   "source": [
    "validation_split = int(len(dataset) * params.fit_generator['validation_split'])\n",
    "print('Number of training datasets   :', validation_split)\n",
    "print('Number of validation datasets :', len(dataset) - validation_split)"
   ]
  },
  {
   "cell_type": "markdown",
   "metadata": {},
   "source": [
    "## Model training"
   ]
  },
  {
   "cell_type": "markdown",
   "metadata": {},
   "source": [
    "### Prepare generators"
   ]
  },
  {
   "cell_type": "markdown",
   "metadata": {},
   "source": [
    "#### Beta schedulers"
   ]
  },
  {
   "cell_type": "markdown",
   "metadata": {},
   "source": [
    "For the model training, we first need a scheduler for the beta values in each epoch that scales the KL loss. We choose here an annealing scheme for the KL loss."
   ]
  },
  {
   "cell_type": "code",
   "execution_count": 25,
   "metadata": {},
   "outputs": [
    {
     "name": "stdout",
     "output_type": "stream",
     "text": [
      "Summary of \"LogisticGrowth\" (BetaScheduler)\n",
      "  dtype    : float32\n",
      "  lower    : 0.0\n",
      "  upper    : 0.2\n",
      "  midpoint : 5\n",
      "  rate     : 1\n"
     ]
    }
   ],
   "source": [
    "beta_scheduler = getattr(beta_schedulers,\n",
    "                         params.beta_scheduler.get('class_name'))(**params.beta_scheduler.get('config'),\n",
    "                                                                  dtype=data.dtype)\n",
    "beta_scheduler.summary()"
   ]
  },
  {
   "cell_type": "markdown",
   "metadata": {},
   "source": [
    "#### Fit generator"
   ]
  },
  {
   "cell_type": "markdown",
   "metadata": {},
   "source": [
    "For each subset of the CMIP datasets, we create a generator. The model is trained with the first subset of the CMIP dataset."
   ]
  },
  {
   "cell_type": "code",
   "execution_count": 26,
   "metadata": {},
   "outputs": [
    {
     "name": "stdout",
     "output_type": "stream",
     "text": [
      "Number of datasets : 38\n",
      "Total data size    : 1,350,216\n",
      "Total data length  : 64,296\n",
      "Strides            : 1\n",
      "Number of samples  : 62,814\n",
      "Batch size         : 128\n",
      "Number of batches  : 491\n",
      "Sample repetitions : 5\n",
      "Actual batch size  : 128 * 5 = 640\n",
      "Shuffle            : True\n",
      "Filter length\n",
      "  input      : 0\n",
      "  prediction : 1\n",
      "Ensemble condition\n",
      "  size : 38\n",
      "  type : index\n",
      "Input channels     : all\n",
      "Predicted channels : (0,)\n",
      "Output shapes\n",
      "  inputs\n",
      "    encoder_input    : (640, 1, 16, 21)\n",
      "    encoder_cond     : (640, 1, 50)\n",
      "    decoder_cond     : (640, 1, 50)\n",
      "    prediction_cond  : (640, 1, 50)\n",
      "    beta             : (640, 1)\n",
      "  targets\n",
      "    decoder          : (640, 1, 16, 21)\n",
      "    prediction       : (640, 1, 24, 1)\n"
     ]
    }
   ],
   "source": [
    "month = time.astype('datetime64[M]').astype(int)\n",
    "fit_gen = generators.FitGenerator(dataset[:validation_split],\n",
    "                                  **params.fit_generator,\n",
    "                                  beta_scheduler=beta_scheduler,\n",
    "                                  time=month)\n",
    "fit_gen.summary()"
   ]
  },
  {
   "cell_type": "markdown",
   "metadata": {},
   "source": [
    "#### Validation generator (optional)"
   ]
  },
  {
   "attachments": {},
   "cell_type": "markdown",
   "metadata": {},
   "source": [
    "A second generator takes the second set of CMIP data. The generator is used to evaluate the sucess of the training to generalize to independent CMIP runs."
   ]
  },
  {
   "cell_type": "code",
   "execution_count": 27,
   "metadata": {},
   "outputs": [
    {
     "name": "stdout",
     "output_type": "stream",
     "text": [
      "No validation dataset.\n"
     ]
    }
   ],
   "source": [
    "val_dataset = dataset[validation_split:]\n",
    "if val_dataset:\n",
    "    val_gen = generators.FitGenerator(val_dataset, **params.fit_generator, beta_scheduler=beta_scheduler, time=month)\n",
    "    val_gen.summary()\n",
    "else:\n",
    "    val_gen = None\n",
    "    print('No validation dataset.')"
   ]
  },
  {
   "cell_type": "markdown",
   "metadata": {},
   "source": [
    "### Prepare callbacks"
   ]
  },
  {
   "attachments": {},
   "cell_type": "markdown",
   "metadata": {},
   "source": [
    "The callbacks are used to save the model weights and evaluation metrics in the `LOG_DIR`. The progress of the training can be monitored with Tensorboard."
   ]
  },
  {
   "cell_type": "code",
   "execution_count": 28,
   "metadata": {},
   "outputs": [],
   "source": [
    "callbacks = [\n",
    "    ModelCheckpoint(filepath=os.path.join(log_dir, 'model.{epoch:02d}.h5'),\n",
    "                    period=5,\n",
    "                    save_best_only=False,\n",
    "                    save_weights_only=True),\n",
    "    ks.callbacks.TensorBoard(log_dir=log_dir, histogram_freq=0, write_graph=False),\n",
    "]"
   ]
  },
  {
   "cell_type": "markdown",
   "metadata": {},
   "source": [
    "### Fit model"
   ]
  },
  {
   "attachments": {},
   "cell_type": "markdown",
   "metadata": {},
   "source": [
    "Finally, we start the training of the model."
   ]
  },
  {
   "cell_type": "code",
   "execution_count": 29,
   "metadata": {
    "tags": []
   },
   "outputs": [
    {
     "data": {
      "application/vnd.jupyter.widget-view+json": {
       "model_id": "1f75c0b44bc5455ab0d46993365bf73e",
       "version_major": 2,
       "version_minor": 0
      },
      "text/plain": [
       "0epoch [00:00, ?epoch/s]"
      ]
     },
     "metadata": {},
     "output_type": "display_data"
    },
    {
     "data": {
      "application/vnd.jupyter.widget-view+json": {
       "model_id": "",
       "version_major": 2,
       "version_minor": 0
      },
      "text/plain": [
       "0batch [00:00, ?batch/s]"
      ]
     },
     "metadata": {},
     "output_type": "display_data"
    }
   ],
   "source": [
    "hist = model.fit(fit_gen,\n",
    "                 validation_data=val_gen,\n",
    "                 initial_epoch=INITIAL_EPOCH,\n",
    "                 **params.model_fit,\n",
    "                 callbacks=callbacks + [TqdmCallback(verbose=1)],\n",
    "                 verbose=0)"
   ]
  }
 ],
 "metadata": {
  "kernelspec": {
   "display_name": "Tensorflow 2.6",
   "language": "python",
   "name": "python3"
  },
  "language_info": {
   "codemirror_mode": {
    "name": "ipython",
    "version": 3
   },
   "file_extension": ".py",
   "mimetype": "text/x-python",
   "name": "python",
   "nbconvert_exporter": "python",
   "pygments_lexer": "ipython3",
   "version": "3.9.10"
  },
  "toc-autonumbering": false,
  "toc-showtags": false,
  "widgets": {
   "application/vnd.jupyter.widget-state+json": {
    "state": {},
    "version_major": 2,
    "version_minor": 0
   }
  }
 },
 "nbformat": 4,
 "nbformat_minor": 4
}
